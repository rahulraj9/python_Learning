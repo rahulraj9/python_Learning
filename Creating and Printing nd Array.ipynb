{
 "cells": [
  {
   "cell_type": "code",
   "execution_count": 1,
   "id": "c2b3968f",
   "metadata": {},
   "outputs": [],
   "source": [
    "#import numpy Library\n",
    "import numpy as np"
   ]
  },
  {
   "cell_type": "code",
   "execution_count": 2,
   "id": "9998b86a",
   "metadata": {},
   "outputs": [],
   "source": [
    "#first numpy Array\n",
    "first_numpy_array = np.array([1,2,3,4,5])"
   ]
  },
  {
   "cell_type": "code",
   "execution_count": 3,
   "id": "5fd1f611",
   "metadata": {},
   "outputs": [
    {
     "name": "stdout",
     "output_type": "stream",
     "text": [
      "[1 2 3 4 5]\n"
     ]
    }
   ],
   "source": [
    "#Print first Array\n",
    "print(first_numpy_array)"
   ]
  },
  {
   "cell_type": "code",
   "execution_count": 4,
   "id": "bb13aa07",
   "metadata": {},
   "outputs": [
    {
     "data": {
      "text/plain": [
       "array([[0., 0., 0.],\n",
       "       [0., 0., 0.],\n",
       "       [0., 0., 0.]])"
      ]
     },
     "execution_count": 4,
     "metadata": {},
     "output_type": "execute_result"
    }
   ],
   "source": [
    "#Array with zeros\n",
    "array_with_zero = np.zeros((3,3))\n",
    "array_with_zero"
   ]
  },
  {
   "cell_type": "code",
   "execution_count": 5,
   "id": "9347deb8",
   "metadata": {},
   "outputs": [
    {
     "data": {
      "text/plain": [
       "array([[1., 1., 1.],\n",
       "       [1., 1., 1.],\n",
       "       [1., 1., 1.]])"
      ]
     },
     "execution_count": 5,
     "metadata": {},
     "output_type": "execute_result"
    }
   ],
   "source": [
    "#Array with ones\n",
    "array_with_one = np.ones((3,3))\n",
    "array_with_one"
   ]
  },
  {
   "cell_type": "code",
   "execution_count": 6,
   "id": "b8baf70f",
   "metadata": {},
   "outputs": [
    {
     "data": {
      "text/plain": [
       "array([[1., 1., 1.],\n",
       "       [1., 1., 1.],\n",
       "       [1., 1., 1.]])"
      ]
     },
     "execution_count": 6,
     "metadata": {},
     "output_type": "execute_result"
    }
   ],
   "source": [
    "#Array with empty\n",
    "array_with_empty = np.empty((3,3))\n",
    "array_with_empty"
   ]
  },
  {
   "cell_type": "code",
   "execution_count": 7,
   "id": "342e57a7",
   "metadata": {},
   "outputs": [],
   "source": [
    "#Array with arrange method\n",
    "np_arrange = np.arange(12)"
   ]
  },
  {
   "cell_type": "code",
   "execution_count": 8,
   "id": "d34877fc",
   "metadata": {},
   "outputs": [
    {
     "name": "stdout",
     "output_type": "stream",
     "text": [
      "[ 0  1  2  3  4  5  6  7  8  9 10 11]\n"
     ]
    }
   ],
   "source": [
    "#print array\n",
    "print(np_arrange)"
   ]
  },
  {
   "cell_type": "code",
   "execution_count": 9,
   "id": "eb47c36c",
   "metadata": {},
   "outputs": [
    {
     "data": {
      "text/plain": [
       "array([[ 0,  1,  2,  3],\n",
       "       [ 4,  5,  6,  7],\n",
       "       [ 8,  9, 10, 11]])"
      ]
     },
     "execution_count": 9,
     "metadata": {},
     "output_type": "execute_result"
    }
   ],
   "source": [
    "#reshape method to change and create array\n",
    "np_arrange.reshape(3,4)"
   ]
  },
  {
   "cell_type": "code",
   "execution_count": 10,
   "id": "b9daddb3",
   "metadata": {},
   "outputs": [],
   "source": [
    "#linespace for linearly (equal) spaced data element\n",
    "np_linespace = np.linspace(1,5,10) #First element=1, Last element=5, Total number of equidistant elemnts =10\n"
   ]
  },
  {
   "cell_type": "code",
   "execution_count": 11,
   "id": "0e82217c",
   "metadata": {},
   "outputs": [
    {
     "data": {
      "text/plain": [
       "array([1.        , 1.44444444, 1.88888889, 2.33333333, 2.77777778,\n",
       "       3.22222222, 3.66666667, 4.11111111, 4.55555556, 5.        ])"
      ]
     },
     "execution_count": 11,
     "metadata": {},
     "output_type": "execute_result"
    }
   ],
   "source": [
    "#print linespaced array\n",
    "np_linespace"
   ]
  },
  {
   "cell_type": "code",
   "execution_count": 12,
   "id": "d2018fc1",
   "metadata": {},
   "outputs": [
    {
     "data": {
      "text/plain": [
       "array([ 0,  1,  2,  3,  4,  5,  6,  7,  8,  9, 10, 11, 12, 13, 14])"
      ]
     },
     "execution_count": 12,
     "metadata": {},
     "output_type": "execute_result"
    }
   ],
   "source": [
    "#one Dimensional  array\n",
    "one_d = np.arange(15)\n",
    "one_d"
   ]
  },
  {
   "cell_type": "code",
   "execution_count": 13,
   "id": "4c2e1a22",
   "metadata": {},
   "outputs": [
    {
     "data": {
      "text/plain": [
       "array([[ 0,  1,  2,  3,  4],\n",
       "       [ 5,  6,  7,  8,  9],\n",
       "       [10, 11, 12, 13, 14]])"
      ]
     },
     "execution_count": 13,
     "metadata": {},
     "output_type": "execute_result"
    }
   ],
   "source": [
    "# Two Dimensional array\n",
    "two_d = one_d.reshape(3,5)\n",
    "two_d"
   ]
  },
  {
   "cell_type": "code",
   "execution_count": 14,
   "id": "72f660cd",
   "metadata": {},
   "outputs": [],
   "source": [
    "#Three Dimensional array"
   ]
  },
  {
   "cell_type": "code",
   "execution_count": 15,
   "id": "307cfdbe",
   "metadata": {},
   "outputs": [
    {
     "data": {
      "text/plain": [
       "array([[[ 0,  1,  2],\n",
       "        [ 3,  4,  5],\n",
       "        [ 6,  7,  8]],\n",
       "\n",
       "       [[ 9, 10, 11],\n",
       "        [12, 13, 14],\n",
       "        [15, 16, 17]],\n",
       "\n",
       "       [[18, 19, 20],\n",
       "        [21, 22, 23],\n",
       "        [24, 25, 26]]])"
      ]
     },
     "execution_count": 15,
     "metadata": {},
     "output_type": "execute_result"
    }
   ],
   "source": [
    "three_d = np.arange(27).reshape(3,3,3)\n",
    "three_d"
   ]
  },
  {
   "cell_type": "markdown",
   "id": "8f807978",
   "metadata": {},
   "source": [
    "   # Classes and Attributes of ndarray\n",
    "   * .ndim\n",
    "   * .shape\n",
    "   * .size\n",
    "   * .dtype"
   ]
  },
  {
   "cell_type": "code",
   "execution_count": 31,
   "id": "02066358",
   "metadata": {},
   "outputs": [
    {
     "name": "stdout",
     "output_type": "stream",
     "text": [
      "Dimenssion of one_d is :- 1\n",
      "Dimenssion of two_d is :- 2\n",
      "Dimenssion of three_d is :- 3\n"
     ]
    }
   ],
   "source": [
    "# checking the dimenssion of above array \n",
    "print('Dimenssion of one_d is :-', one_d.ndim)\n",
    "print('Dimenssion of two_d is :-', two_d.ndim)\n",
    "print('Dimenssion of three_d is :-', three_d.ndim)"
   ]
  },
  {
   "cell_type": "code",
   "execution_count": 32,
   "id": "b0e790f7",
   "metadata": {},
   "outputs": [
    {
     "name": "stdout",
     "output_type": "stream",
     "text": [
      "shape of one_d is :- (15,)\n",
      "shape of two_d is :- (3, 5)\n",
      "shape of three_d is :- (3, 3, 3)\n"
     ]
    }
   ],
   "source": [
    "#checking the shape of above array\n",
    "print('shape of one_d is :-', one_d.shape)\n",
    "print('shape of two_d is :-', two_d.shape)\n",
    "print('shape of three_d is :-', three_d.shape)"
   ]
  },
  {
   "cell_type": "code",
   "execution_count": 34,
   "id": "adc177e7",
   "metadata": {},
   "outputs": [
    {
     "name": "stdout",
     "output_type": "stream",
     "text": [
      "size of one_d is :- 15\n",
      "size of two_d is :- 15\n",
      "size of three_d is :- 27\n"
     ]
    }
   ],
   "source": [
    "#checking the size of above array\n",
    "print('size of one_d is :-', one_d.size)\n",
    "print('size of two_d is :-', two_d.size)\n",
    "print('size of three_d is :-', three_d.size)"
   ]
  },
  {
   "cell_type": "code",
   "execution_count": 35,
   "id": "5cc3135c",
   "metadata": {},
   "outputs": [
    {
     "name": "stdout",
     "output_type": "stream",
     "text": [
      "dtype of one_d is :- int64\n",
      "dtype of two_d is :- int64\n",
      "dtype of three_d is :- int64\n"
     ]
    }
   ],
   "source": [
    "#checking the dtype of above array\n",
    "print('dtype of one_d is :-', one_d.dtype)\n",
    "print('dtype of two_d is :-', two_d.dtype)\n",
    "print('dtype of three_d is :-', three_d.dtype)"
   ]
  },
  {
   "cell_type": "code",
   "execution_count": null,
   "id": "3d32f2de",
   "metadata": {},
   "outputs": [],
   "source": []
  }
 ],
 "metadata": {
  "kernelspec": {
   "display_name": "Python 3",
   "language": "python",
   "name": "python3"
  },
  "language_info": {
   "codemirror_mode": {
    "name": "ipython",
    "version": 3
   },
   "file_extension": ".py",
   "mimetype": "text/x-python",
   "name": "python",
   "nbconvert_exporter": "python",
   "pygments_lexer": "ipython3",
   "version": "3.8.8"
  }
 },
 "nbformat": 4,
 "nbformat_minor": 5
}
