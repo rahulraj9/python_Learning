{
 "cells": [
  {
   "cell_type": "markdown",
   "id": "328b1932",
   "metadata": {},
   "source": [
    "# Basic Data Type : Integer And Float\n",
    " ## integer\n",
    "    - 32 Bit\n",
    "    - 64 Bit \n",
    "\n",
    " \n",
    " \n"
   ]
  },
  {
   "cell_type": "code",
   "execution_count": 1,
   "id": "becff0aa",
   "metadata": {},
   "outputs": [
    {
     "data": {
      "text/plain": [
       "3.5"
      ]
     },
     "execution_count": 1,
     "metadata": {},
     "output_type": "execute_result"
    }
   ],
   "source": [
    " int_number = 7/2\n",
    "int_number"
   ]
  },
  {
   "cell_type": "markdown",
   "id": "68e4eeda",
   "metadata": {},
   "source": [
    " ## Float"
   ]
  },
  {
   "cell_type": "code",
   "execution_count": 2,
   "id": "80cd8aec",
   "metadata": {},
   "outputs": [
    {
     "data": {
      "text/plain": [
       "2.65"
      ]
     },
     "execution_count": 2,
     "metadata": {},
     "output_type": "execute_result"
    }
   ],
   "source": [
    "float_number = 5.3 / 2\n",
    "float_number"
   ]
  },
  {
   "cell_type": "markdown",
   "id": "4b6bfc2c",
   "metadata": {},
   "source": [
    " ## String \n",
    "     - it can be wirtten in single, double and triple quotes "
   ]
  },
  {
   "cell_type": "code",
   "execution_count": 3,
   "id": "c44af30f",
   "metadata": {},
   "outputs": [],
   "source": [
    "String_one = 'hello'\n",
    "String_two = \"hi\"\n",
    "String_three = \"\"\"welcome\"\"\""
   ]
  },
  {
   "cell_type": "code",
   "execution_count": 4,
   "id": "e553801f",
   "metadata": {},
   "outputs": [
    {
     "name": "stdout",
     "output_type": "stream",
     "text": [
      "hellohiwelcome\n"
     ]
    }
   ],
   "source": [
    "print(String_one + String_two + String_three)"
   ]
  },
  {
   "cell_type": "markdown",
   "id": "94076a73",
   "metadata": {},
   "source": [
    "## None and Boolean\n",
    "\n",
    "    - None --> null\n",
    "    - Boolean ----> True, False\n",
    "   "
   ]
  },
  {
   "cell_type": "code",
   "execution_count": 5,
   "id": "0999418d",
   "metadata": {},
   "outputs": [
    {
     "data": {
      "text/plain": [
       "True"
      ]
     },
     "execution_count": 5,
     "metadata": {},
     "output_type": "execute_result"
    }
   ],
   "source": [
    "num_X = None \n",
    "num_X is None"
   ]
  },
  {
   "cell_type": "code",
   "execution_count": 6,
   "id": "fc5fe0ea",
   "metadata": {},
   "outputs": [
    {
     "data": {
      "text/plain": [
       "False"
      ]
     },
     "execution_count": 6,
     "metadata": {},
     "output_type": "execute_result"
    }
   ],
   "source": [
    "num_y = 10.4\n",
    "num_y is None"
   ]
  },
  {
   "cell_type": "markdown",
   "id": "f872496e",
   "metadata": {},
   "source": [
    "# Type Casting \n",
    "    Type Casting is a process in which we convert a literal of one type to another."
   ]
  },
  {
   "cell_type": "code",
   "execution_count": 7,
   "id": "2e7ded71",
   "metadata": {},
   "outputs": [
    {
     "name": "stdout",
     "output_type": "stream",
     "text": [
      "10.5\n"
     ]
    },
    {
     "data": {
      "text/plain": [
       "float"
      ]
     },
     "execution_count": 7,
     "metadata": {},
     "output_type": "execute_result"
    }
   ],
   "source": [
    "float_number = 10.5\n",
    "print(float_number)\n",
    "type(float_number)"
   ]
  },
  {
   "cell_type": "code",
   "execution_count": 8,
   "id": "9a17e27e",
   "metadata": {},
   "outputs": [
    {
     "data": {
      "text/plain": [
       "10"
      ]
     },
     "execution_count": 8,
     "metadata": {},
     "output_type": "execute_result"
    }
   ],
   "source": [
    "# type cast float_number to int\n",
    "int(float_number)"
   ]
  },
  {
   "cell_type": "markdown",
   "id": "03e1de86",
   "metadata": {},
   "source": [
    "# Tuple \n",
    "    A tuple is one dimessional, immutable ordered sequence of item  which can be mixed of items"
   ]
  },
  {
   "cell_type": "code",
   "execution_count": 9,
   "id": "26e6490f",
   "metadata": {},
   "outputs": [],
   "source": [
    "first_tuple = (12,\"jack\",45.6,(3,2))"
   ]
  },
  {
   "cell_type": "code",
   "execution_count": 10,
   "id": "d9c9c322",
   "metadata": {},
   "outputs": [
    {
     "data": {
      "text/plain": [
       "(12, 'jack', 45.6, (3, 2))"
      ]
     },
     "execution_count": 10,
     "metadata": {},
     "output_type": "execute_result"
    }
   ],
   "source": [
    "first_tuple"
   ]
  },
  {
   "cell_type": "code",
   "execution_count": 11,
   "id": "143dd82e",
   "metadata": {},
   "outputs": [
    {
     "data": {
      "text/plain": [
       "'jack'"
      ]
     },
     "execution_count": 11,
     "metadata": {},
     "output_type": "execute_result"
    }
   ],
   "source": [
    "first_tuple[1] "
   ]
  },
  {
   "cell_type": "code",
   "execution_count": 12,
   "id": "eae39c2b",
   "metadata": {},
   "outputs": [
    {
     "data": {
      "text/plain": [
       "'jack'"
      ]
     },
     "execution_count": 12,
     "metadata": {},
     "output_type": "execute_result"
    }
   ],
   "source": [
    "# the index count start from right , with the first index being -1\n",
    "first_tuple[-3] "
   ]
  },
  {
   "cell_type": "markdown",
   "id": "31906fc7",
   "metadata": {},
   "source": [
    "## Tuple Slicing\n",
    "        count start with the first index but end with the index-1"
   ]
  },
  {
   "cell_type": "code",
   "execution_count": 13,
   "id": "5ef72f16",
   "metadata": {},
   "outputs": [
    {
     "data": {
      "text/plain": [
       "(12, 'jack', 45.6, (3, 2))"
      ]
     },
     "execution_count": 13,
     "metadata": {},
     "output_type": "execute_result"
    }
   ],
   "source": [
    "first_tuple"
   ]
  },
  {
   "cell_type": "code",
   "execution_count": 14,
   "id": "0ef547f6",
   "metadata": {},
   "outputs": [
    {
     "data": {
      "text/plain": [
       "('jack', 45.6)"
      ]
     },
     "execution_count": 14,
     "metadata": {},
     "output_type": "execute_result"
    }
   ],
   "source": [
    "first_tuple[1:3]"
   ]
  },
  {
   "cell_type": "code",
   "execution_count": 15,
   "id": "27d377b4",
   "metadata": {},
   "outputs": [
    {
     "data": {
      "text/plain": [
       "('jack', 45.6)"
      ]
     },
     "execution_count": 15,
     "metadata": {},
     "output_type": "execute_result"
    }
   ],
   "source": [
    "first_tuple[1:-1]"
   ]
  },
  {
   "cell_type": "markdown",
   "id": "9c74f4c7",
   "metadata": {},
   "source": [
    "# List\n",
    "* A list is a one-dimensional, mutable ordered sequence of items which can be of mixed data type"
   ]
  },
  {
   "cell_type": "code",
   "execution_count": 16,
   "id": "98d45997",
   "metadata": {},
   "outputs": [],
   "source": [
    "first_list = [12,\"jack\",45.6,(3,2)]"
   ]
  },
  {
   "cell_type": "code",
   "execution_count": 17,
   "id": "a704f4a2",
   "metadata": {},
   "outputs": [
    {
     "data": {
      "text/plain": [
       "[12, 'jack', 45.6, (3, 2)]"
      ]
     },
     "execution_count": 17,
     "metadata": {},
     "output_type": "execute_result"
    }
   ],
   "source": [
    "first_list"
   ]
  },
  {
   "cell_type": "code",
   "execution_count": 18,
   "id": "6fc2f59c",
   "metadata": {},
   "outputs": [
    {
     "data": {
      "text/plain": [
       "'jack'"
      ]
     },
     "execution_count": 18,
     "metadata": {},
     "output_type": "execute_result"
    }
   ],
   "source": [
    "first_list[1]"
   ]
  },
  {
   "cell_type": "code",
   "execution_count": 19,
   "id": "d4e824a8",
   "metadata": {},
   "outputs": [
    {
     "data": {
      "text/plain": [
       "[12, 'jack', 45.6, (3, 2), 'rahul']"
      ]
     },
     "execution_count": 19,
     "metadata": {},
     "output_type": "execute_result"
    }
   ],
   "source": [
    "# modifying list which is not  done in tuple\n",
    "first_list.append('rahul')\n",
    "first_list"
   ]
  },
  {
   "cell_type": "code",
   "execution_count": 20,
   "id": "98ce3c7b",
   "metadata": {},
   "outputs": [
    {
     "data": {
      "text/plain": [
       "[12, 'jack', 45.6, (3, 2)]"
      ]
     },
     "execution_count": 20,
     "metadata": {},
     "output_type": "execute_result"
    }
   ],
   "source": [
    "first_list.remove('rahul')\n",
    "first_list"
   ]
  },
  {
   "cell_type": "code",
   "execution_count": 21,
   "id": "abaffc21",
   "metadata": {},
   "outputs": [
    {
     "data": {
      "text/plain": [
       "'jack'"
      ]
     },
     "execution_count": 21,
     "metadata": {},
     "output_type": "execute_result"
    }
   ],
   "source": [
    "# removing from Specific index\n",
    "first_list.pop(1)"
   ]
  },
  {
   "cell_type": "code",
   "execution_count": 22,
   "id": "8c9a8ce0",
   "metadata": {},
   "outputs": [
    {
     "data": {
      "text/plain": [
       "[12, 45.6, (3, 2)]"
      ]
     },
     "execution_count": 22,
     "metadata": {},
     "output_type": "execute_result"
    }
   ],
   "source": [
    "first_list"
   ]
  },
  {
   "cell_type": "code",
   "execution_count": 23,
   "id": "2d891c81",
   "metadata": {},
   "outputs": [
    {
     "data": {
      "text/plain": [
       "[12, 'raj', 45.6, (3, 2)]"
      ]
     },
     "execution_count": 23,
     "metadata": {},
     "output_type": "execute_result"
    }
   ],
   "source": [
    "# insert an item at specific index\n",
    "first_list.insert(1,\"raj\")\n",
    "first_list"
   ]
  },
  {
   "cell_type": "markdown",
   "id": "4611f89c",
   "metadata": {},
   "source": [
    "  ## Slicing Lists"
   ]
  },
  {
   "cell_type": "code",
   "execution_count": 24,
   "id": "8a88ca41",
   "metadata": {},
   "outputs": [
    {
     "data": {
      "text/plain": [
       "['raj']"
      ]
     },
     "execution_count": 24,
     "metadata": {},
     "output_type": "execute_result"
    }
   ],
   "source": [
    "first_list[1:2]"
   ]
  },
  {
   "cell_type": "code",
   "execution_count": 25,
   "id": "5159cbdf",
   "metadata": {},
   "outputs": [],
   "source": [
    "first_list.append(\"Rahul\")"
   ]
  },
  {
   "cell_type": "code",
   "execution_count": 26,
   "id": "5bb8e8d7",
   "metadata": {},
   "outputs": [
    {
     "data": {
      "text/plain": [
       "['raj', 45.6]"
      ]
     },
     "execution_count": 26,
     "metadata": {},
     "output_type": "execute_result"
    }
   ],
   "source": [
    "first_list[1:3]"
   ]
  },
  {
   "cell_type": "code",
   "execution_count": 27,
   "id": "b725541b",
   "metadata": {},
   "outputs": [
    {
     "data": {
      "text/plain": [
       "[12, 'raj', 45.6, (3, 2), 'Rahul']"
      ]
     },
     "execution_count": 27,
     "metadata": {},
     "output_type": "execute_result"
    }
   ],
   "source": [
    "first_list"
   ]
  },
  {
   "cell_type": "markdown",
   "id": "bc0a51f2",
   "metadata": {},
   "source": [
    "## Dictionary(dict)\n",
    "\n",
    "* Dictionaries store a mapping between a set of keys and a set of values.\n",
    "     * key - any immutable type\n",
    "     * value - any data type"
   ]
  },
  {
   "cell_type": "code",
   "execution_count": 28,
   "id": "e42d0ee2",
   "metadata": {},
   "outputs": [],
   "source": [
    "# create a dict\n",
    "\n",
    "first_dict ={'1':'rahul','2':'rajan','3':'rajhul','id':[25,26]}"
   ]
  },
  {
   "cell_type": "code",
   "execution_count": 29,
   "id": "b40fd35c",
   "metadata": {},
   "outputs": [
    {
     "data": {
      "text/plain": [
       "{'1': 'rahul', '2': 'rajan', '3': 'rajhul', 'id': [25, 26]}"
      ]
     },
     "execution_count": 29,
     "metadata": {},
     "output_type": "execute_result"
    }
   ],
   "source": [
    "# view entire dictionary\n",
    "first_dict"
   ]
  },
  {
   "cell_type": "code",
   "execution_count": 30,
   "id": "3dd4a355",
   "metadata": {},
   "outputs": [
    {
     "data": {
      "text/plain": [
       "dict_keys(['1', '2', '3', 'id'])"
      ]
     },
     "execution_count": 30,
     "metadata": {},
     "output_type": "execute_result"
    }
   ],
   "source": [
    "# view only key\n",
    "first_dict.keys()"
   ]
  },
  {
   "cell_type": "code",
   "execution_count": 31,
   "id": "1b9fde3a",
   "metadata": {},
   "outputs": [
    {
     "data": {
      "text/plain": [
       "dict_values(['rahul', 'rajan', 'rajhul', [25, 26]])"
      ]
     },
     "execution_count": 31,
     "metadata": {},
     "output_type": "execute_result"
    }
   ],
   "source": [
    "# view only values\n",
    "first_dict.values()"
   ]
  },
  {
   "cell_type": "code",
   "execution_count": 32,
   "id": "0853f1c4",
   "metadata": {},
   "outputs": [
    {
     "data": {
      "text/plain": [
       "'rahul'"
      ]
     },
     "execution_count": 32,
     "metadata": {},
     "output_type": "execute_result"
    }
   ],
   "source": [
    "# Acess with key\n",
    "first_dict['1']"
   ]
  },
  {
   "cell_type": "code",
   "execution_count": 33,
   "id": "b676e279",
   "metadata": {},
   "outputs": [],
   "source": [
    "#modify Dictionary\n",
    "first_dict.update({'1':'rahulraj'})"
   ]
  },
  {
   "cell_type": "code",
   "execution_count": 34,
   "id": "54ba9e01",
   "metadata": {},
   "outputs": [
    {
     "data": {
      "text/plain": [
       "{'1': 'rahulraj', '2': 'rajan', '3': 'rajhul', 'id': [25, 26]}"
      ]
     },
     "execution_count": 34,
     "metadata": {},
     "output_type": "execute_result"
    }
   ],
   "source": [
    "first_dict"
   ]
  },
  {
   "cell_type": "code",
   "execution_count": 35,
   "id": "8c1d649d",
   "metadata": {},
   "outputs": [
    {
     "data": {
      "text/plain": [
       "list"
      ]
     },
     "execution_count": 35,
     "metadata": {},
     "output_type": "execute_result"
    }
   ],
   "source": [
    "type(first_list)"
   ]
  },
  {
   "cell_type": "code",
   "execution_count": 36,
   "id": "bb53459f",
   "metadata": {},
   "outputs": [
    {
     "data": {
      "text/plain": [
       "tuple"
      ]
     },
     "execution_count": 36,
     "metadata": {},
     "output_type": "execute_result"
    }
   ],
   "source": [
    "type(first_tuple)"
   ]
  },
  {
   "cell_type": "code",
   "execution_count": 37,
   "id": "0b858b4c",
   "metadata": {},
   "outputs": [
    {
     "data": {
      "text/plain": [
       "dict"
      ]
     },
     "execution_count": 37,
     "metadata": {},
     "output_type": "execute_result"
    }
   ],
   "source": [
    "type(first_dict)"
   ]
  },
  {
   "cell_type": "markdown",
   "id": "476167c7",
   "metadata": {},
   "source": [
    "## Set\n",
    "   * A set is an unorderd collection of unique elements"
   ]
  },
  {
   "cell_type": "code",
   "execution_count": 38,
   "id": "a9b4751a",
   "metadata": {},
   "outputs": [],
   "source": [
    "# create set\n",
    "first_Set = set(['audi','BMW','BMW','FERRARI','Lamborgini'])"
   ]
  },
  {
   "cell_type": "code",
   "execution_count": 39,
   "id": "61ea34c5",
   "metadata": {},
   "outputs": [
    {
     "data": {
      "text/plain": [
       "{'BMW', 'FERRARI', 'Lamborgini', 'audi'}"
      ]
     },
     "execution_count": 39,
     "metadata": {},
     "output_type": "execute_result"
    }
   ],
   "source": [
    "first_Set"
   ]
  },
  {
   "cell_type": "code",
   "execution_count": 40,
   "id": "7df0225b",
   "metadata": {},
   "outputs": [],
   "source": [
    "second_set = set(['BMW','Kia','Tata','Nexon','Toyota','FERRARI'])"
   ]
  },
  {
   "cell_type": "code",
   "execution_count": 41,
   "id": "4db628d7",
   "metadata": {},
   "outputs": [],
   "source": [
    "# union set Operation\n",
    "combined_one_two_Set_union =first_Set | second_set"
   ]
  },
  {
   "cell_type": "code",
   "execution_count": 42,
   "id": "38693883",
   "metadata": {},
   "outputs": [
    {
     "data": {
      "text/plain": [
       "{'BMW', 'FERRARI', 'Kia', 'Lamborgini', 'Nexon', 'Tata', 'Toyota', 'audi'}"
      ]
     },
     "execution_count": 42,
     "metadata": {},
     "output_type": "execute_result"
    }
   ],
   "source": [
    "combined_one_two_Set_union"
   ]
  },
  {
   "cell_type": "code",
   "execution_count": 43,
   "id": "75e921ec",
   "metadata": {},
   "outputs": [],
   "source": [
    "#intersection / And set operation \n",
    "combined_one_two_Set_intersection = first_Set & second_set\n"
   ]
  },
  {
   "cell_type": "code",
   "execution_count": 44,
   "id": "06a41120",
   "metadata": {},
   "outputs": [
    {
     "data": {
      "text/plain": [
       "{'BMW', 'FERRARI'}"
      ]
     },
     "execution_count": 44,
     "metadata": {},
     "output_type": "execute_result"
    }
   ],
   "source": [
    "combined_one_two_Set_intersection"
   ]
  },
  {
   "cell_type": "markdown",
   "id": "c65196f6",
   "metadata": {},
   "source": [
    "# BASIC OPERATOR\n",
    "\n",
    "* In: the in operator is used to generate a Boolean value to indicate whether a given value is present in the container or not.\n",
    "* plus(+) : The plus operator produces a new tuple, list, or string whose value is the concatenation of its arguments.\n",
    "* multiplication(*):The multiplication operator produces a new tuple, list, or string that repeats the original content."
   ]
  },
  {
   "cell_type": "code",
   "execution_count": 45,
   "id": "575faa32",
   "metadata": {},
   "outputs": [
    {
     "data": {
      "text/plain": [
       "[12, 'raj', 45.6, (3, 2), 'Rahul']"
      ]
     },
     "execution_count": 45,
     "metadata": {},
     "output_type": "execute_result"
    }
   ],
   "source": [
    "first_list"
   ]
  },
  {
   "cell_type": "code",
   "execution_count": 46,
   "id": "c78a4de8",
   "metadata": {},
   "outputs": [
    {
     "data": {
      "text/plain": [
       "True"
      ]
     },
     "execution_count": 46,
     "metadata": {},
     "output_type": "execute_result"
    }
   ],
   "source": [
    "12 in first_list"
   ]
  },
  {
   "cell_type": "code",
   "execution_count": 47,
   "id": "6d97e2b2",
   "metadata": {},
   "outputs": [
    {
     "data": {
      "text/plain": [
       "False"
      ]
     },
     "execution_count": 47,
     "metadata": {},
     "output_type": "execute_result"
    }
   ],
   "source": [
    "11 in first_list"
   ]
  },
  {
   "cell_type": "code",
   "execution_count": 48,
   "id": "94a0f4c9",
   "metadata": {},
   "outputs": [],
   "source": [
    "word = 'encyclopedia'"
   ]
  },
  {
   "cell_type": "code",
   "execution_count": 49,
   "id": "9b2168c3",
   "metadata": {},
   "outputs": [
    {
     "data": {
      "text/plain": [
       "True"
      ]
     },
     "execution_count": 49,
     "metadata": {},
     "output_type": "execute_result"
    }
   ],
   "source": [
    "'i' in word"
   ]
  },
  {
   "cell_type": "code",
   "execution_count": 50,
   "id": "9c8fadea",
   "metadata": {},
   "outputs": [
    {
     "data": {
      "text/plain": [
       "False"
      ]
     },
     "execution_count": 50,
     "metadata": {},
     "output_type": "execute_result"
    }
   ],
   "source": [
    "'t' in word"
   ]
  },
  {
   "cell_type": "code",
   "execution_count": 51,
   "id": "401c75b8",
   "metadata": {},
   "outputs": [
    {
     "data": {
      "text/plain": [
       "(23, 11, 32)"
      ]
     },
     "execution_count": 51,
     "metadata": {},
     "output_type": "execute_result"
    }
   ],
   "source": [
    "second_tuple =(23,11,32)\n",
    "second_tuple"
   ]
  },
  {
   "cell_type": "code",
   "execution_count": 52,
   "id": "d51ad52f",
   "metadata": {},
   "outputs": [
    {
     "name": "stdout",
     "output_type": "stream",
     "text": [
      "(12, 'jack', 45.6, (3, 2))\n",
      "(23, 11, 32)\n"
     ]
    }
   ],
   "source": [
    "print(first_tuple)\n",
    "print(second_tuple)"
   ]
  },
  {
   "cell_type": "code",
   "execution_count": 53,
   "id": "a9165ca8",
   "metadata": {},
   "outputs": [
    {
     "data": {
      "text/plain": [
       "(12, 'jack', 45.6, (3, 2), 23, 11, 32)"
      ]
     },
     "execution_count": 53,
     "metadata": {},
     "output_type": "execute_result"
    }
   ],
   "source": [
    "# concatenation of two tuple with + argument\n",
    "concatenation_tuple = first_tuple + second_tuple\n",
    "concatenation_tuple"
   ]
  },
  {
   "cell_type": "code",
   "execution_count": 54,
   "id": "07ab7571",
   "metadata": {},
   "outputs": [
    {
     "data": {
      "text/plain": [
       "(12, 'jack', 45.6, (3, 2), 12, 'jack', 45.6, (3, 2), 12, 'jack', 45.6, (3, 2))"
      ]
     },
     "execution_count": 54,
     "metadata": {},
     "output_type": "execute_result"
    }
   ],
   "source": [
    "# * operator does not actually multiply the values; it only repeats the values for the specified number of times\n",
    "first_tuple * 3"
   ]
  },
  {
   "cell_type": "code",
   "execution_count": 55,
   "id": "ab922192",
   "metadata": {},
   "outputs": [
    {
     "data": {
      "text/plain": [
       "'friendfriendfriend'"
      ]
     },
     "execution_count": 55,
     "metadata": {},
     "output_type": "execute_result"
    }
   ],
   "source": [
    "name = 'friend'\n",
    "name * 3"
   ]
  },
  {
   "cell_type": "code",
   "execution_count": null,
   "id": "741d866c",
   "metadata": {},
   "outputs": [],
   "source": []
  }
 ],
 "metadata": {
  "kernelspec": {
   "display_name": "Python 3",
   "language": "python",
   "name": "python3"
  },
  "language_info": {
   "codemirror_mode": {
    "name": "ipython",
    "version": 3
   },
   "file_extension": ".py",
   "mimetype": "text/x-python",
   "name": "python",
   "nbconvert_exporter": "python",
   "pygments_lexer": "ipython3",
   "version": "3.8.8"
  }
 },
 "nbformat": 4,
 "nbformat_minor": 5
}
