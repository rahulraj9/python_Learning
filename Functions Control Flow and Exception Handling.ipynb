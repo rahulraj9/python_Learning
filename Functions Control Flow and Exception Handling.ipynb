{
 "cells": [
  {
   "cell_type": "markdown",
   "id": "eeb9ab3a",
   "metadata": {},
   "source": [
    "# Function\n",
    "\n",
    "##### Functions are the primary and most important method of code organization and reuse in Python.\n",
    "\n",
    "### Syntax\n",
    "  \n",
    "  def functionname (arg);\n",
    "    \n",
    "        <statement>\n",
    "    \n",
    "            return <value>\n",
    "            \n",
    "   * Outcome of the function is communicated by return statement\n",
    "   * Arguments in parenthesis are basically assignments\n",
    " ### Some important points to consider while defining functions:\n",
    "        * A function should always have a return value.\n",
    "        * If return is not defined, then it returns None.\n",
    "        * Function overloading is not permitted.\n",
    "        \n",
    "        \n",
    "        \n",
    "   ## You can use a function to return a single value or multiple values.\n"
   ]
  },
  {
   "cell_type": "code",
   "execution_count": 1,
   "id": "f578882c",
   "metadata": {},
   "outputs": [
    {
     "name": "stdout",
     "output_type": "stream",
     "text": [
      "rahul\n"
     ]
    }
   ],
   "source": [
    "# creating first function\n",
    "def my_first_function(name):\n",
    "    return name\n",
    "print(my_first_function('rahul'))"
   ]
  },
  {
   "cell_type": "code",
   "execution_count": 2,
   "id": "4fc00314",
   "metadata": {},
   "outputs": [
    {
     "data": {
      "text/plain": [
       "30"
      ]
     },
     "execution_count": 2,
     "metadata": {},
     "output_type": "execute_result"
    }
   ],
   "source": [
    "# create  Function\n",
    "\n",
    "def add_two_number(num1,num2):\n",
    "    return num1+num2   # returning single value\n",
    "number1 = 10;\n",
    "number2 = 20;\n",
    "\n",
    "# calling add_two_number_function\n",
    "result =  add_two_number(number1,number2)\n",
    "result"
   ]
  },
  {
   "cell_type": "code",
   "execution_count": 3,
   "id": "24486892",
   "metadata": {},
   "outputs": [
    {
     "data": {
      "text/plain": [
       "(26, 5.8, 65)"
      ]
     },
     "execution_count": 3,
     "metadata": {},
     "output_type": "execute_result"
    }
   ],
   "source": [
    "# creating function\n",
    "def profile(age, height, weight):\n",
    "    return age, height, weight  # returning multiple values\n",
    "age = 26;\n",
    "height = 5.8;\n",
    "weight = 65;\n",
    "\n",
    "# calling profile function\n",
    "profile_result = profile(age,height,weight)\n",
    "profile_result"
   ]
  },
  {
   "cell_type": "markdown",
   "id": "3cfa055f",
   "metadata": {},
   "source": [
    "# Built-in Sequence Functions\n",
    "## The built-in sequence functions of Python are:\n",
    "### enumerate\n",
    "    * Indexes data to keep track of indices and corresponding data mapping\n",
    "### sorted\n",
    "    * Returns the new sorted list for the given sequence\n",
    "### reversed\n",
    "    * Iterates the data in reverse order\n",
    "### Zip\n",
    "    * Creates lists of tuples by pairing up elements of lists, tuples, or other sequence"
   ]
  },
  {
   "cell_type": "code",
   "execution_count": 4,
   "id": "5ab13af5",
   "metadata": {},
   "outputs": [],
   "source": [
    "store_list = ['McDonnald','Kfg','StarBucks','PizzaHut','Dominos']"
   ]
  },
  {
   "cell_type": "code",
   "execution_count": 5,
   "id": "ab659118",
   "metadata": {},
   "outputs": [
    {
     "data": {
      "text/plain": [
       "['McDonnald', 'Kfg', 'StarBucks', 'PizzaHut', 'Dominos']"
      ]
     },
     "execution_count": 5,
     "metadata": {},
     "output_type": "execute_result"
    }
   ],
   "source": [
    "store_list"
   ]
  },
  {
   "cell_type": "code",
   "execution_count": 6,
   "id": "a328508d",
   "metadata": {},
   "outputs": [
    {
     "name": "stdout",
     "output_type": "stream",
     "text": [
      "0 McDonnald\n",
      "1 Kfg\n",
      "2 StarBucks\n",
      "3 PizzaHut\n",
      "4 Dominos\n"
     ]
    }
   ],
   "source": [
    "# printing data element and index using enumerate method\n",
    "for position, name in enumerate(store_list):\n",
    "    print(position, name)"
   ]
  },
  {
   "cell_type": "code",
   "execution_count": 7,
   "id": "6b945864",
   "metadata": {},
   "outputs": [
    {
     "data": {
      "text/plain": [
       "['Dominos', 'Kfg', 'McDonnald', 'PizzaHut', 'StarBucks']"
      ]
     },
     "execution_count": 7,
     "metadata": {},
     "output_type": "execute_result"
    }
   ],
   "source": [
    "# sorted data using sorted method\n",
    "sorted(store_list)"
   ]
  },
  {
   "cell_type": "code",
   "execution_count": 8,
   "id": "2acba3cf",
   "metadata": {},
   "outputs": [
    {
     "data": {
      "text/plain": [
       "[' ',\n",
       " ' ',\n",
       " 'a',\n",
       " 'a',\n",
       " 'c',\n",
       " 'c',\n",
       " 'd',\n",
       " 'e',\n",
       " 'e',\n",
       " 'e',\n",
       " 'h',\n",
       " 'i',\n",
       " 'n',\n",
       " 's',\n",
       " 't',\n",
       " 't']"
      ]
     },
     "execution_count": 8,
     "metadata": {},
     "output_type": "execute_result"
    }
   ],
   "source": [
    "sorted('the data science')"
   ]
  },
  {
   "cell_type": "code",
   "execution_count": 9,
   "id": "33993fa5",
   "metadata": {},
   "outputs": [
    {
     "data": {
      "text/plain": [
       "[0, 1, 2, 3, 4, 5, 6, 7, 8, 9, 10, 11, 12, 13, 14]"
      ]
     },
     "execution_count": 9,
     "metadata": {},
     "output_type": "execute_result"
    }
   ],
   "source": [
    "num_list  = range(15)\n",
    "list(num_list)"
   ]
  },
  {
   "cell_type": "code",
   "execution_count": 10,
   "id": "41b8fdb8",
   "metadata": {},
   "outputs": [
    {
     "data": {
      "text/plain": [
       "[14, 13, 12, 11, 10, 9, 8, 7, 6, 5, 4, 3, 2, 1, 0]"
      ]
     },
     "execution_count": 10,
     "metadata": {},
     "output_type": "execute_result"
    }
   ],
   "source": [
    "#printinf num_list in reverse order using reversed_function\n",
    "list(reversed(num_list))"
   ]
  },
  {
   "cell_type": "code",
   "execution_count": 11,
   "id": "5231b96c",
   "metadata": {},
   "outputs": [
    {
     "name": "stdout",
     "output_type": "stream",
     "text": [
      "['McDonnald', 'Kfg', 'StarBucks', 'PizzaHut', 'Dominos']\n",
      "['one', 'two', 'three', 'four', 'five']\n"
     ]
    }
   ],
   "source": [
    "print(store_list)\n",
    "store_list_count = ['one','two','three','four','five']\n",
    "print(store_list_count)"
   ]
  },
  {
   "cell_type": "code",
   "execution_count": 12,
   "id": "24cdf588",
   "metadata": {},
   "outputs": [
    {
     "name": "stdout",
     "output_type": "stream",
     "text": [
      "[('McDonnald', 'one'), ('Kfg', 'two'), ('StarBucks', 'three'), ('PizzaHut', 'four'), ('Dominos', 'five')]\n"
     ]
    }
   ],
   "source": [
    "# Zip function to pair the data elements of lists\n",
    "total_store= list(zip(store_list,store_list_count))\n",
    "print(total_store)\n"
   ]
  },
  {
   "cell_type": "markdown",
   "id": "3e5a4fb1",
   "metadata": {},
   "source": [
    "# CONTROL FLOW\n",
    "\n",
    "#### The if, elif, and else statements are the most commonly used control flow statements.\n",
    "* A for loop is used to iterate over a collection (like a list or tuple) or an iterator.\n",
    "* A while loop specifies a condition and a block of code that is to be executed until the condition evaluates to False or the loop is explicitly ended with break.\n"
   ]
  },
  {
   "cell_type": "code",
   "execution_count": 13,
   "id": "3cd557a4",
   "metadata": {},
   "outputs": [
    {
     "name": "stdout",
     "output_type": "stream",
     "text": [
      "adult\n"
     ]
    }
   ],
   "source": [
    "# if else statement\n",
    "age = 21\n",
    "\n",
    "if age<18:\n",
    "    print('minor')\n",
    "else:\n",
    "    print('adult')"
   ]
  },
  {
   "cell_type": "code",
   "execution_count": 14,
   "id": "54635ab1",
   "metadata": {},
   "outputs": [
    {
     "name": "stdout",
     "output_type": "stream",
     "text": [
      "Grade B\n"
     ]
    }
   ],
   "source": [
    "# Nested if, elif, and else\n",
    "mark =81\n",
    "if mark > 90:\n",
    "    print('Grade A')\n",
    "elif 80<= mark <=90:\n",
    "    print('Grade B')\n",
    "elif 70<= mark <=80:\n",
    "    print('Grade c')\n",
    "elif 60<= mark <=70:\n",
    "    print('Grade d')\n",
    "else: \n",
    "    print('Grade f')\n",
    "    "
   ]
  },
  {
   "cell_type": "code",
   "execution_count": 15,
   "id": "365bdd4f",
   "metadata": {},
   "outputs": [],
   "source": [
    "store_list.insert(3,None)"
   ]
  },
  {
   "cell_type": "code",
   "execution_count": 16,
   "id": "c11b069f",
   "metadata": {},
   "outputs": [
    {
     "name": "stdout",
     "output_type": "stream",
     "text": [
      "pizzahut is near you\n"
     ]
    }
   ],
   "source": [
    "for store_name in (store_list):\n",
    "    if(store_name is None):\n",
    "        print('pizzahut is near you')\n",
    "        break"
   ]
  },
  {
   "cell_type": "code",
   "execution_count": 18,
   "id": "491dca89",
   "metadata": {},
   "outputs": [
    {
     "name": "stdout",
     "output_type": "stream",
     "text": [
      "100\n",
      "99\n",
      "98\n",
      "97\n",
      "96\n"
     ]
    }
   ],
   "source": [
    "#while loop\n",
    "temperature  = 100 \n",
    "while temperature > 95:\n",
    "    print(temperature)\n",
    "    temperature=temperature-1"
   ]
  },
  {
   "cell_type": "code",
   "execution_count": 19,
   "id": "9bb85bdf",
   "metadata": {},
   "outputs": [],
   "source": [
    "def test_float(float_value):\n",
    "    return float(float_value)"
   ]
  },
  {
   "cell_type": "code",
   "execution_count": 20,
   "id": "4fa9f371",
   "metadata": {},
   "outputs": [
    {
     "data": {
      "text/plain": [
       "3.5"
      ]
     },
     "execution_count": 20,
     "metadata": {},
     "output_type": "execute_result"
    }
   ],
   "source": [
    "test_float(3.5)"
   ]
  },
  {
   "cell_type": "code",
   "execution_count": 21,
   "id": "5d12ba0c",
   "metadata": {},
   "outputs": [
    {
     "data": {
      "text/plain": [
       "1.0"
      ]
     },
     "execution_count": 21,
     "metadata": {},
     "output_type": "execute_result"
    }
   ],
   "source": [
    "test_float(1)"
   ]
  },
  {
   "cell_type": "code",
   "execution_count": 23,
   "id": "a450595c",
   "metadata": {},
   "outputs": [
    {
     "ename": "ValueError",
     "evalue": "could not convert string to float: 'String'",
     "output_type": "error",
     "traceback": [
      "\u001b[0;31m---------------------------------------------------------------------------\u001b[0m",
      "\u001b[0;31mValueError\u001b[0m                                Traceback (most recent call last)",
      "\u001b[0;32m<ipython-input-23-b81a0064f427>\u001b[0m in \u001b[0;36m<module>\u001b[0;34m\u001b[0m\n\u001b[0;32m----> 1\u001b[0;31m \u001b[0mtest_float\u001b[0m\u001b[0;34m(\u001b[0m\u001b[0;34m\"String\"\u001b[0m\u001b[0;34m)\u001b[0m \u001b[0;31m# passing wrong value to overcome we can use exception handling\u001b[0m\u001b[0;34m\u001b[0m\u001b[0;34m\u001b[0m\u001b[0m\n\u001b[0m",
      "\u001b[0;32m<ipython-input-19-a3766c78de8f>\u001b[0m in \u001b[0;36mtest_float\u001b[0;34m(float_value)\u001b[0m\n\u001b[1;32m      1\u001b[0m \u001b[0;32mdef\u001b[0m \u001b[0mtest_float\u001b[0m\u001b[0;34m(\u001b[0m\u001b[0mfloat_value\u001b[0m\u001b[0;34m)\u001b[0m\u001b[0;34m:\u001b[0m\u001b[0;34m\u001b[0m\u001b[0;34m\u001b[0m\u001b[0m\n\u001b[0;32m----> 2\u001b[0;31m     \u001b[0;32mreturn\u001b[0m \u001b[0mfloat\u001b[0m\u001b[0;34m(\u001b[0m\u001b[0mfloat_value\u001b[0m\u001b[0;34m)\u001b[0m\u001b[0;34m\u001b[0m\u001b[0;34m\u001b[0m\u001b[0m\n\u001b[0m",
      "\u001b[0;31mValueError\u001b[0m: could not convert string to float: 'String'"
     ]
    }
   ],
   "source": [
    "test_float(\"String\") # passing wrong value to overcome we can use exception handling"
   ]
  },
  {
   "cell_type": "markdown",
   "id": "3e55278e",
   "metadata": {},
   "source": [
    "# EXCEPTION HANDLING\n",
    "Handling Python errors or exceptions gracefully is an important part of building robust programs and algorithms."
   ]
  },
  {
   "cell_type": "code",
   "execution_count": 24,
   "id": "83b1d4f6",
   "metadata": {},
   "outputs": [],
   "source": [
    "def test_float_fun(number):\n",
    "    try:\n",
    "        return float(number)\n",
    "    except ValueError:\n",
    "        return 'not a number you are passing String',number"
   ]
  },
  {
   "cell_type": "code",
   "execution_count": 25,
   "id": "1a3e25f6",
   "metadata": {},
   "outputs": [
    {
     "data": {
      "text/plain": [
       "1.0"
      ]
     },
     "execution_count": 25,
     "metadata": {},
     "output_type": "execute_result"
    }
   ],
   "source": [
    "test_float_fun(1)"
   ]
  },
  {
   "cell_type": "code",
   "execution_count": 26,
   "id": "f8ef1b12",
   "metadata": {},
   "outputs": [
    {
     "data": {
      "text/plain": [
       "3.5"
      ]
     },
     "execution_count": 26,
     "metadata": {},
     "output_type": "execute_result"
    }
   ],
   "source": [
    "test_float_fun(3.5)"
   ]
  },
  {
   "cell_type": "code",
   "execution_count": 27,
   "id": "c2cc0bcf",
   "metadata": {},
   "outputs": [
    {
     "data": {
      "text/plain": [
       "('not a number you are passing String', 'string')"
      ]
     },
     "execution_count": 27,
     "metadata": {},
     "output_type": "execute_result"
    }
   ],
   "source": [
    "test_float_fun('string')"
   ]
  },
  {
   "cell_type": "code",
   "execution_count": null,
   "id": "b3ad8f58",
   "metadata": {},
   "outputs": [],
   "source": []
  }
 ],
 "metadata": {
  "kernelspec": {
   "display_name": "Python 3",
   "language": "python",
   "name": "python3"
  },
  "language_info": {
   "codemirror_mode": {
    "name": "ipython",
    "version": 3
   },
   "file_extension": ".py",
   "mimetype": "text/x-python",
   "name": "python",
   "nbconvert_exporter": "python",
   "pygments_lexer": "ipython3",
   "version": "3.8.8"
  }
 },
 "nbformat": 4,
 "nbformat_minor": 5
}
