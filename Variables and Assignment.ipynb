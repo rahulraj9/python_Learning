{
 "cells": [
  {
   "cell_type": "markdown",
   "id": "f5828809",
   "metadata": {},
   "source": [
    "#### Assigned value to a variable and getting there data type"
   ]
  },
  {
   "cell_type": "code",
   "execution_count": 1,
   "id": "ea7ca657",
   "metadata": {},
   "outputs": [
    {
     "data": {
      "text/plain": [
       "int"
      ]
     },
     "execution_count": 1,
     "metadata": {},
     "output_type": "execute_result"
    }
   ],
   "source": [
    "x = 3\n",
    "type(x)"
   ]
  },
  {
   "cell_type": "code",
   "execution_count": 2,
   "id": "b28c6450",
   "metadata": {},
   "outputs": [
    {
     "data": {
      "text/plain": [
       "float"
      ]
     },
     "execution_count": 2,
     "metadata": {},
     "output_type": "execute_result"
    }
   ],
   "source": [
    "y = 4.5\n",
    "type(y)"
   ]
  },
  {
   "cell_type": "code",
   "execution_count": 3,
   "id": "5bc5f8ba",
   "metadata": {},
   "outputs": [
    {
     "data": {
      "text/plain": [
       "str"
      ]
     },
     "execution_count": 3,
     "metadata": {},
     "output_type": "execute_result"
    }
   ],
   "source": [
    "z = 'hello'\n",
    "type(z)"
   ]
  },
  {
   "cell_type": "markdown",
   "id": "d58c87f1",
   "metadata": {},
   "source": [
    "#### Assign a value to a variable, and print it and its data type."
   ]
  },
  {
   "cell_type": "code",
   "execution_count": 4,
   "id": "ed3ba607",
   "metadata": {},
   "outputs": [],
   "source": [
    "first_string_value = \"hello\"\n",
    "first_integer_value = 3\n",
    "first_float_value = 3.5"
   ]
  },
  {
   "cell_type": "code",
   "execution_count": 5,
   "id": "f66035aa",
   "metadata": {},
   "outputs": [
    {
     "name": "stdout",
     "output_type": "stream",
     "text": [
      "hello\n",
      "3\n",
      "3.5\n"
     ]
    }
   ],
   "source": [
    "print(first_string_value)\n",
    "print(first_integer_value)\n",
    "print(first_float_value)"
   ]
  },
  {
   "cell_type": "markdown",
   "id": "0120fd46",
   "metadata": {},
   "source": [
    "#### Multiple Assignments"
   ]
  },
  {
   "cell_type": "code",
   "execution_count": 6,
   "id": "4196b043",
   "metadata": {},
   "outputs": [],
   "source": [
    "integer_x , float_y = 11,11.5"
   ]
  },
  {
   "cell_type": "code",
   "execution_count": 7,
   "id": "3363d04c",
   "metadata": {},
   "outputs": [
    {
     "data": {
      "text/plain": [
       "11"
      ]
     },
     "execution_count": 7,
     "metadata": {},
     "output_type": "execute_result"
    }
   ],
   "source": [
    "integer_x"
   ]
  },
  {
   "cell_type": "code",
   "execution_count": 8,
   "id": "7713cb6a",
   "metadata": {},
   "outputs": [
    {
     "data": {
      "text/plain": [
       "11.5"
      ]
     },
     "execution_count": 8,
     "metadata": {},
     "output_type": "execute_result"
    }
   ],
   "source": [
    "float_y"
   ]
  },
  {
   "cell_type": "code",
   "execution_count": null,
   "id": "3c867f6a",
   "metadata": {},
   "outputs": [],
   "source": []
  }
 ],
 "metadata": {
  "kernelspec": {
   "display_name": "Python 3",
   "language": "python",
   "name": "python3"
  },
  "language_info": {
   "codemirror_mode": {
    "name": "ipython",
    "version": 3
   },
   "file_extension": ".py",
   "mimetype": "text/x-python",
   "name": "python",
   "nbconvert_exporter": "python",
   "pygments_lexer": "ipython3",
   "version": "3.8.8"
  }
 },
 "nbformat": 4,
 "nbformat_minor": 5
}
